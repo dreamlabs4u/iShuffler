{
 "cells": [
  {
   "cell_type": "markdown",
   "metadata": {},
   "source": [
    "# iShuffler - A Simple Document Clustering App\n",
    "\n",
    "A Simple Document Clustering Application to cluster the Documents feed in as JSON Data. The aim is to come up with the following insights :-\n",
    "\n",
    "- Clusters the input document data.\n",
    "- Ranks on any criteria.\n",
    "- Top Documents in the cluster.\n",
    "- Top Terms defining the cluster."
   ]
  },
  {
   "cell_type": "code",
   "execution_count": 1,
   "metadata": {},
   "outputs": [
    {
     "data": {
      "text/plain": [
       "version 2.11.8"
      ]
     },
     "execution_count": 1,
     "metadata": {},
     "output_type": "execute_result"
    }
   ],
   "source": [
    "scala.util.Properties.versionString"
   ]
  },
  {
   "cell_type": "code",
   "execution_count": 2,
   "metadata": {},
   "outputs": [
    {
     "name": "stdout",
     "output_type": "stream",
     "text": [
      "Starting download from file:target/scala-2.11/iShuffler-assembly-1.0.0.jar\n",
      "Finished download of iShuffler-assembly-1.0.0.jar\n"
     ]
    }
   ],
   "source": [
    "%AddJar file:target/scala-2.11/iShuffler-assembly-1.0.0.jar -f"
   ]
  },
  {
   "cell_type": "markdown",
   "metadata": {},
   "source": [
    "### Generate iShuffler Config with Program Arguments"
   ]
  },
  {
   "cell_type": "code",
   "execution_count": 3,
   "metadata": {
    "collapsed": true
   },
   "outputs": [],
   "source": [
    "import org.apache.spark.SparkConf\n",
    "import org.apache.spark.sql.SparkSession\n",
    "import com.study.spark.conf.IShufflerConfig\n",
    "import com.study.spark.transform.IShuffler\n",
    "  \n",
    "val iShufflerConfig = IShufflerConfig(Array())\n",
    "val iShuffler = IShuffler(iShufflerConfig)"
   ]
  },
  {
   "cell_type": "markdown",
   "metadata": {},
   "source": [
    "### Read in the JSON Source Data"
   ]
  },
  {
   "cell_type": "code",
   "execution_count": 4,
   "metadata": {
    "scrolled": true
   },
   "outputs": [
    {
     "data": {
      "text/plain": [
       "300"
      ]
     },
     "execution_count": 4,
     "metadata": {},
     "output_type": "execute_result"
    }
   ],
   "source": [
    "val srcData = iShuffler.readDocumentData\n",
    "\n",
    "srcData.count\n"
   ]
  },
  {
   "cell_type": "markdown",
   "metadata": {},
   "source": [
    "### Read in the Stop words"
   ]
  },
  {
   "cell_type": "code",
   "execution_count": 5,
   "metadata": {},
   "outputs": [
    {
     "data": {
      "text/plain": [
       "Set(down, it's, ourselves, that's, for, further, she'll, any, there's, this, haven't, in, ought, myself, have, your, off, once, i'll, are, is, his, why, too, why's, am, than, isn't, didn't, himself, but, you're, below, what, would, i'd, if, you'll, own, they'll, up, we're, they'd, so, our, do, all, him, had, nor, before, it, a, she's, as, hadn't, because, has, she, yours, or, above, yourself, herself, she'd, null, such, they, each, can't, don't, i, until, that, out, he's, cannot, to, we've, hers, you, did, let's, most, here, these, hasn't, was, there, when's, shan't, doing, at, through, been, over, also, i've, on, being, same, how, whom, my, after, who, itself, me, them, by, then, couldn't, he, should, few, wasn't, again, while, their, not, with, from, you've, they'..."
      ]
     },
     "execution_count": 5,
     "metadata": {},
     "output_type": "execute_result"
    }
   ],
   "source": [
    "val stopWrods = iShuffler.readStopWords()\n",
    "\n",
    "stopWrods"
   ]
  },
  {
   "cell_type": "markdown",
   "metadata": {},
   "source": [
    "### Generate Terms"
   ]
  },
  {
   "cell_type": "code",
   "execution_count": 6,
   "metadata": {},
   "outputs": [
    {
     "data": {
      "text/plain": [
       "Array((General News,WrappedArray(taiwanese, regional, budget, carrierv, air, will, business, october, less, two, year, operation, competition, low, passenger, load, point, saturation, homeland, discount, aviation, market, airline, official, analyst, say, air, parent, company, transasia, airways, say, august, stop, route, discount, carrier, launch, december, taiwan, first, locally, budget, airline, transasia, will, pick, two, air, seven, route, try, rehire, staff, people, company, marketing, vice, president, chen, tell, asian, aviation, environment, carrier, quite, chen, say, jjthere, many, brand, market)), (General News,WrappedArray(aav, european, contributor, ian, goold, explain, pay, dinner, sometimes, pay, business, airasia, group, chief, executi..."
      ]
     },
     "execution_count": 6,
     "metadata": {},
     "output_type": "execute_result"
    }
   ],
   "source": [
    "val terms = iShuffler.generateTerms(srcData, stopWrods)\n",
    "\n",
    "terms.collect"
   ]
  },
  {
   "cell_type": "markdown",
   "metadata": {},
   "source": [
    "### Perform Pre-processing\n",
    "\n",
    "    *  iii. Lemmitize cleansed data\n",
    "    *   iv. Calculate term frequency\n",
    "    *    v. Calculate Inverse Document Frequency\n",
    "    *   vi. Document Term Matrix."
   ]
  },
  {
   "cell_type": "code",
   "execution_count": 7,
   "metadata": {
    "collapsed": true
   },
   "outputs": [],
   "source": [
    "val corpusInfo = iShuffler.doPreProcess(terms)\n"
   ]
  },
  {
   "cell_type": "markdown",
   "metadata": {},
   "source": [
    "#### Term Ids "
   ]
  },
  {
   "cell_type": "code",
   "execution_count": 8,
   "metadata": {},
   "outputs": [
    {
     "data": {
      "text/plain": [
       "Array(year, airline, new, million, will, qantas, flight, pay, business, bank, australia, chief, say, joyce, executive, one, australian, international, make, customer, air, service, cent, per, last, first, now, traveller, rise, can, airbus, fare, worth, show, melbourne, take, company, government, carrier, billion, route, come, volvo, week, car, zealand, world, alan, travel, fee, sydney, september, deal, domestic, fly, airlines, profit, just, nation, people, aircraft, four, time, two, record, june, give, use, end, financial, ticket, see, month, plane, rate, share, many, vietnam, buy, package, increase, commission, aviation, expect, airport, three, virgin, change, get, plan, money, visit, follow, issue, around, jetstar, singapore, operation, cost, online, market, wor..."
      ]
     },
     "execution_count": 8,
     "metadata": {},
     "output_type": "execute_result"
    }
   ],
   "source": [
    "corpusInfo.termIds\n"
   ]
  },
  {
   "cell_type": "markdown",
   "metadata": {},
   "source": [
    "#### Doc Ids"
   ]
  },
  {
   "cell_type": "code",
   "execution_count": 9,
   "metadata": {},
   "outputs": [
    {
     "data": {
      "text/plain": [
       "Map(69 -> Other, 138 -> Other, 101 -> Business News, 249 -> Other, 234 -> General News, 0 -> General News, 88 -> General News, 170 -> General News, 115 -> Business News, 217 -> www.talkvietnam.org/, 276 -> International News, 5 -> General News, 120 -> Business News, 247 -> General News, 269 -> Other, 202 -> Other, 10 -> Business News, 56 -> General News, 142 -> Other, 153 -> Other, 174 -> General News, 185 -> Other, 42 -> The Business, 24 -> Other, 288 -> General News, 37 -> Other, 25 -> Other, 257 -> Other, 52 -> International News, 14 -> Business News, 184 -> Business Review, 110 -> General News, 125 -> Other, 196 -> Other, 157 -> Business Day, 189 -> Other, 20 -> Other, 46 -> Aviation, 93 -> General News, 284 -> Other, 152 -> General News, 228 -> Other, 289 ..."
      ]
     },
     "execution_count": 9,
     "metadata": {},
     "output_type": "execute_result"
    }
   ],
   "source": [
    "corpusInfo.docIds"
   ]
  },
  {
   "cell_type": "markdown",
   "metadata": {},
   "source": [
    "#### Term IDFs"
   ]
  },
  {
   "cell_type": "code",
   "execution_count": 10,
   "metadata": {},
   "outputs": [
    {
     "data": {
      "text/plain": [
       "Array(1.4271163556401458, 1.4411025976148855, 1.6433394641097818, 2.207274913189721, 1.8119621765455745, 1.9661128563728327, 1.9902104079518932, 1.91959284073794, 2.0928645620119766, 2.445685936634719, 2.207274913189721, 2.17742195004004, 1.9902104079518932, 2.659260036932778, 2.2697952701710546, 2.2380465718564744, 2.207274913189721, 2.4849066497880004, 2.336486644669727, 2.5257286443082556, 2.659260036932778, 2.7593434954897607, 2.70805020110221, 2.70805020110221, 2.371577964480997, 2.6127400212978853, 2.407945608651872, 2.5682882587270512, 2.870569130599985, 2.4849066497880004, 2.5682882587270512, 2.9311937524164198, 2.6127400212978853, 2.6127400212978853, 2.8134107167600364, 2.5257286443082556, 2.659260036932778, 2.870569130599985, 2.70805020110221, 2.81341071..."
      ]
     },
     "execution_count": 10,
     "metadata": {},
     "output_type": "execute_result"
    }
   ],
   "source": [
    "corpusInfo.termIdfs"
   ]
  },
  {
   "cell_type": "markdown",
   "metadata": {},
   "source": [
    "#### Document Term Matrix"
   ]
  },
  {
   "cell_type": "code",
   "execution_count": 11,
   "metadata": {},
   "outputs": [
    {
     "data": {
      "text/plain": [
       "Array([General News,(2893,[0,1,4,8,12,20,25,36,38,40,59,63,76,82,97,100,136,142,145,164,174,221,235,284,288,306,307,323,360,374,378,530,606,674,675,732,772,784,793,938,974,1012,1221,1250,1289,1504,1606,1824,1994,2193,2453,2516,2561,2631,2875,2883],[1.4271163556401458,2.882205195229771,3.623924353091149,2.0928645620119766,5.97063122385568,7.977780110798333,2.6127400212978853,5.318520073865556,5.41610040220442,5.991464547107982,2.870569130599985,5.74113826119997,2.9311937524164198,5.991464547107982,3.3058872018578307,6.277666234389328,3.2188758248682006,3.624340932976365,3.3058872018578307,3.3058872018578307,3.4011973816621555,3.7578723256008875,3.624340932976365,7.824046010856292,3.7578723256008875,3.912023005428146,3.7578723256008875,3.7578723256..."
      ]
     },
     "execution_count": 11,
     "metadata": {},
     "output_type": "execute_result"
    }
   ],
   "source": [
    "corpusInfo.docTermMatrix.collect"
   ]
  },
  {
   "cell_type": "markdown",
   "metadata": {},
   "source": [
    "#### Perform Allocation\n",
    "\n",
    "- Ranks The Clusters. \n",
    "- Identify Top Documents in the cluster. \n",
    "- Identify Top Terms defining the cluster."
   ]
  },
  {
   "cell_type": "code",
   "execution_count": 12,
   "metadata": {},
   "outputs": [
    {
     "data": {
      "text/plain": [
       "ArrayBuffer(\"\n",
       "   Rank        : 1\n",
       "   Topic terms : aurora, fleeting, platt, encounter, fascinating\n",
       "   Term Scores : -1.5252633742448733E-5, -1.5252633742450142E-5, -1.5252633742451904E-5, -1.5252633742452527E-5, -1.5252633742453124E-5\n",
       "   Topic docs  : Travel, General News, Other, Other, General News\n",
       "\n",
       "        \", \"\n",
       "   Rank        : 2\n",
       "   Topic terms : jetstar, qantas, officer, business, travel\n",
       "   Term Scores : 0.11105311037740408, 0.08024007751792747, 0.07569585465355651, 0.07194198343005864, 0.07135129689533214\n",
       "   Topic docs  : General News, General News, General News, Aviation, Aviation\n",
       "\n",
       "        \", \"\n",
       "   Rank        : 3\n",
       "   Topic terms : jetstar, hrdlicka, closely, corporate, want\n",
       "   Term Scores : 0.23412061384504287, 0.14779049049007578, 0.14779049049007573, 0.11160503..."
      ]
     },
     "execution_count": 12,
     "metadata": {},
     "output_type": "execute_result"
    }
   ],
   "source": [
    "iShuffler.allocate(corpusInfo)"
   ]
  },
  {
   "cell_type": "code",
   "execution_count": null,
   "metadata": {
    "collapsed": true
   },
   "outputs": [],
   "source": []
  }
 ],
 "metadata": {
  "kernelspec": {
   "display_name": "Apache Toree - Scala",
   "language": "scala",
   "name": "apache_toree_scala"
  },
  "language_info": {
   "file_extension": ".scala",
   "name": "scala",
   "version": "2.11.8"
  }
 },
 "nbformat": 4,
 "nbformat_minor": 2
}
